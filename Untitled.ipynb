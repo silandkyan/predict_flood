{
 "cells": [
  {
   "cell_type": "code",
   "execution_count": 1,
   "id": "f3cc6b44-1d4d-4f8d-9d06-ddc34c75f41d",
   "metadata": {},
   "outputs": [],
   "source": [
    "from toolbox import *"
   ]
  },
  {
   "cell_type": "code",
   "execution_count": 2,
   "id": "9b1f36a2-dd97-40b9-a0a6-09cbb13a71ed",
   "metadata": {},
   "outputs": [
    {
     "data": {
      "text/html": [
       "<div>\n",
       "<style scoped>\n",
       "    .dataframe tbody tr th:only-of-type {\n",
       "        vertical-align: middle;\n",
       "    }\n",
       "\n",
       "    .dataframe tbody tr th {\n",
       "        vertical-align: top;\n",
       "    }\n",
       "\n",
       "    .dataframe thead th {\n",
       "        text-align: right;\n",
       "    }\n",
       "</style>\n",
       "<table border=\"1\" class=\"dataframe\">\n",
       "  <thead>\n",
       "    <tr style=\"text-align: right;\">\n",
       "      <th></th>\n",
       "      <th>station_id</th>\n",
       "      <th>start_date</th>\n",
       "      <th>end_date</th>\n",
       "      <th>elevation</th>\n",
       "      <th>ycoord</th>\n",
       "      <th>xcoord</th>\n",
       "      <th>name</th>\n",
       "      <th>geometry</th>\n",
       "    </tr>\n",
       "  </thead>\n",
       "  <tbody>\n",
       "    <tr>\n",
       "      <th>0</th>\n",
       "      <td>355</td>\n",
       "      <td>1970-01-01 00:00:00.019470101</td>\n",
       "      <td>1970-01-01 00:00:00.019891031</td>\n",
       "      <td>140</td>\n",
       "      <td>49.6789</td>\n",
       "      <td>8.6276</td>\n",
       "      <td>Bensheim</td>\n",
       "      <td>POINT (8.62760 49.67890)</td>\n",
       "    </tr>\n",
       "    <tr>\n",
       "      <th>1</th>\n",
       "      <td>917</td>\n",
       "      <td>1970-01-01 00:00:00.019950801</td>\n",
       "      <td>1970-01-01 00:00:00.020240311</td>\n",
       "      <td>162</td>\n",
       "      <td>49.8809</td>\n",
       "      <td>8.6779</td>\n",
       "      <td>Darmstadt</td>\n",
       "      <td>POINT (8.67790 49.88090)</td>\n",
       "    </tr>\n",
       "    <tr>\n",
       "      <th>2</th>\n",
       "      <td>918</td>\n",
       "      <td>1970-01-01 00:00:00.019871001</td>\n",
       "      <td>1970-01-01 00:00:00.019950731</td>\n",
       "      <td>122</td>\n",
       "      <td>49.8453</td>\n",
       "      <td>8.6240</td>\n",
       "      <td>Darmstadt</td>\n",
       "      <td>POINT (8.62400 49.84530)</td>\n",
       "    </tr>\n",
       "    <tr>\n",
       "      <th>3</th>\n",
       "      <td>919</td>\n",
       "      <td>1970-01-01 00:00:00.019370203</td>\n",
       "      <td>1970-01-01 00:00:00.019740731</td>\n",
       "      <td>169</td>\n",
       "      <td>49.8697</td>\n",
       "      <td>8.6796</td>\n",
       "      <td>Darmstadt-Botanischer</td>\n",
       "      <td>POINT (8.67960 49.86970)</td>\n",
       "    </tr>\n",
       "    <tr>\n",
       "      <th>4</th>\n",
       "      <td>920</td>\n",
       "      <td>1970-01-01 00:00:00.019490101</td>\n",
       "      <td>1970-01-01 00:00:00.019870930</td>\n",
       "      <td>108</td>\n",
       "      <td>49.8564</td>\n",
       "      <td>8.5929</td>\n",
       "      <td>Darmstadt</td>\n",
       "      <td>POINT (8.59290 49.85640)</td>\n",
       "    </tr>\n",
       "  </tbody>\n",
       "</table>\n",
       "</div>"
      ],
      "text/plain": [
       "   station_id                    start_date                      end_date  \\\n",
       "0         355 1970-01-01 00:00:00.019470101 1970-01-01 00:00:00.019891031   \n",
       "1         917 1970-01-01 00:00:00.019950801 1970-01-01 00:00:00.020240311   \n",
       "2         918 1970-01-01 00:00:00.019871001 1970-01-01 00:00:00.019950731   \n",
       "3         919 1970-01-01 00:00:00.019370203 1970-01-01 00:00:00.019740731   \n",
       "4         920 1970-01-01 00:00:00.019490101 1970-01-01 00:00:00.019870930   \n",
       "\n",
       "   elevation   ycoord  xcoord                   name                  geometry  \n",
       "0        140  49.6789  8.6276               Bensheim  POINT (8.62760 49.67890)  \n",
       "1        162  49.8809  8.6779              Darmstadt  POINT (8.67790 49.88090)  \n",
       "2        122  49.8453  8.6240              Darmstadt  POINT (8.62400 49.84530)  \n",
       "3        169  49.8697  8.6796  Darmstadt-Botanischer  POINT (8.67960 49.86970)  \n",
       "4        108  49.8564  8.5929              Darmstadt  POINT (8.59290 49.85640)  "
      ]
     },
     "execution_count": 2,
     "metadata": {},
     "output_type": "execute_result"
    }
   ],
   "source": [
    "ws = load_weather_station_data('./data/weather_station_list.csv')\n",
    "ws.head()"
   ]
  },
  {
   "cell_type": "code",
   "execution_count": null,
   "id": "65614ebf-1c44-4bcd-a801-6c0f1b8cc1cd",
   "metadata": {},
   "outputs": [],
   "source": []
  }
 ],
 "metadata": {
  "kernelspec": {
   "display_name": "Python (geo)",
   "language": "python",
   "name": "geo"
  },
  "language_info": {
   "codemirror_mode": {
    "name": "ipython",
    "version": 3
   },
   "file_extension": ".py",
   "mimetype": "text/x-python",
   "name": "python",
   "nbconvert_exporter": "python",
   "pygments_lexer": "ipython3",
   "version": "3.9.18"
  }
 },
 "nbformat": 4,
 "nbformat_minor": 5
}
