{
 "cells": [
  {
   "cell_type": "markdown",
   "id": "5f669c08-af0b-4bb9-8cb7-844774fc759c",
   "metadata": {},
   "source": [
    "# Predict with future weather"
   ]
  },
  {
   "cell_type": "code",
   "execution_count": 1,
   "id": "effa84eb-2753-4cdc-9e70-f687996463fc",
   "metadata": {},
   "outputs": [],
   "source": [
    "from toolbox import *\n",
    "\n",
    "import pandas as pd\n",
    "import geopandas as gpd\n",
    "import cartopy.crs as ccrs\n",
    "\n",
    "import numpy as np\n",
    "import matplotlib.pyplot as plt\n",
    "import seaborn as sns\n",
    "\n",
    "import random\n",
    "import pickle\n",
    "import glob\n",
    "import os"
   ]
  },
  {
   "cell_type": "code",
   "execution_count": 2,
   "id": "00f438f5-52ed-4742-a7fd-6b00cbef6675",
   "metadata": {},
   "outputs": [],
   "source": [
    "from sklearn.impute import SimpleImputer\n",
    "\n",
    "from sklearn.preprocessing import MinMaxScaler, StandardScaler, PowerTransformer\n",
    "from sklearn.preprocessing import OneHotEncoder, OrdinalEncoder\n",
    "\n",
    "from sklearn.compose import ColumnTransformer\n",
    "from sklearn.pipeline import Pipeline"
   ]
  },
  {
   "cell_type": "code",
   "execution_count": 3,
   "id": "ad8b027c-3bb7-4edc-b7c8-a733c66f155b",
   "metadata": {},
   "outputs": [],
   "source": [
    "from sklearn.decomposition import PCA\n",
    "from sklearn.cross_decomposition import PLSRegression\n",
    "from sklearn.tree import DecisionTreeRegressor\n",
    "from sklearn.linear_model import LinearRegression, SGDRegressor\n",
    "from sklearn.svm import SVR\n",
    "from sklearn.ensemble import RandomForestRegressor, AdaBoostRegressor, GradientBoostingRegressor, HistGradientBoostingRegressor\n",
    "from sklearn.feature_selection import SelectKBest, f_regression, RFECV, SelectFromModel\n",
    "\n",
    "from sklearn.model_selection import GridSearchCV"
   ]
  },
  {
   "cell_type": "code",
   "execution_count": 4,
   "id": "6fb9c025-107b-43a8-82bb-e7fe775befa9",
   "metadata": {},
   "outputs": [],
   "source": [
    "import warnings\n",
    "warnings.filterwarnings(\"ignore\", \"use_inf_as_na\")"
   ]
  },
  {
   "cell_type": "markdown",
   "id": "558c7ced-122b-4698-b9ff-0bca0104c976",
   "metadata": {},
   "source": [
    "## Unpickle model"
   ]
  },
  {
   "cell_type": "code",
   "execution_count": 5,
   "id": "d9ef0301-1685-4bae-b96c-00334522047f",
   "metadata": {},
   "outputs": [],
   "source": [
    "# load model\n",
    "if True:\n",
    "    name = 'HGBoost'\n",
    "    \n",
    "    with open(f'./models/{name}.pkl', 'rb') as file:\n",
    "        model = pickle.load(file)\n",
    "    \n",
    "    model#.best_params_"
   ]
  },
  {
   "cell_type": "markdown",
   "id": "e6522f9b-01f2-48f3-b714-4bdbe60ca85b",
   "metadata": {},
   "source": [
    "## Load groundwater station data"
   ]
  },
  {
   "cell_type": "code",
   "execution_count": 6,
   "id": "706a16f6-d78a-4865-97a9-a9432da404a8",
   "metadata": {},
   "outputs": [],
   "source": [
    "gs = load_groundwater_station_data('./data/groundwater/bergstraße/gw_stations_bergstraße.csv')\n",
    "g = load_groundwater_data('./data/groundwater/bergstraße/gw.csv')\n",
    "\n",
    "gs_agg = calc_aggregate_station_data(gs, g)\n",
    "gs_agg = calc_initial_station_data(gs_agg, g, initial_n_years=5) \n",
    "gs_agg = gs_agg.drop('water_temp_mean', axis='columns')"
   ]
  },
  {
   "cell_type": "code",
   "execution_count": 7,
   "id": "dc485aad-71e4-45e2-81fc-2d13f1fccd4a",
   "metadata": {},
   "outputs": [],
   "source": [
    "#gs_agg[gs_agg.isna().any(axis=1)]\n",
    "gs_agg = gs_agg.dropna()\n",
    "#gs_agg.info()"
   ]
  },
  {
   "cell_type": "markdown",
   "id": "d0a90809-4577-4ed2-9716-c142f2186878",
   "metadata": {},
   "source": [
    "### Create regional clusters from gw stations\n",
    "\n",
    "A good number of clusters is 10-12. Re-run if station data is changed."
   ]
  },
  {
   "cell_type": "code",
   "execution_count": 8,
   "id": "624fb959-7865-4970-b170-f7779b42d7bc",
   "metadata": {},
   "outputs": [],
   "source": [
    "#explore_clusters(gs_agg[['x', 'y']])"
   ]
  },
  {
   "cell_type": "code",
   "execution_count": 9,
   "id": "99291423-6296-4693-a598-71ca03b0f8bd",
   "metadata": {},
   "outputs": [],
   "source": [
    "labels, centers = apply_clusters(gs_agg[['x', 'y']], 12, scale=False)\n",
    "\n",
    "#plot_clusters(gs_agg[['x', 'y']], labels, centers)\n",
    "\n",
    "# Add clusters to stations\n",
    "gs_agg['reg_clusters'] = labels\n",
    "#gs_agg['reg_clusters'] = 0"
   ]
  },
  {
   "cell_type": "markdown",
   "id": "f83ded23-9304-49b3-96cc-de0f2b965e59",
   "metadata": {},
   "source": [
    "## Load weather scenarios"
   ]
  },
  {
   "cell_type": "code",
   "execution_count": 10,
   "id": "cd3d4bf2-dee9-4994-9d63-37558ed7584e",
   "metadata": {},
   "outputs": [
    {
     "name": "stdout",
     "output_type": "stream",
     "text": [
      "avg_t+2_p+05\n",
      "avg_t+4_p-10\n",
      "avg_t-4_p+10\n",
      "avg_t0_p0\n",
      "avg_t+4_p+10\n"
     ]
    }
   ],
   "source": [
    "scenario_folder = './data/weather_future'\n",
    "scenarios = {}\n",
    "\n",
    "for path in glob.iglob(f'{scenario_folder}/*.csv'):\n",
    "    scenario_name = os.path.splitext(os.path.basename(path))[0]\n",
    "    print(scenario_name)\n",
    "    w = load_weather_data(f'./data/weather_future/{scenario_name}.csv')\n",
    "    w['date'] = w.index\n",
    "    #w.info()\n",
    "    scenarios[scenario_name] = w"
   ]
  },
  {
   "cell_type": "markdown",
   "id": "920ac5dd-1482-4367-9ba2-22bd19474762",
   "metadata": {},
   "source": [
    "## Predict future groundwater"
   ]
  },
  {
   "cell_type": "code",
   "execution_count": 11,
   "id": "748ffb83-ece3-4a2e-bb6b-24906df73ba3",
   "metadata": {},
   "outputs": [],
   "source": [
    "# restrict data to these columns\n",
    "restrict_to_cols = ['station_id',\n",
    "        'date',\n",
    "        #'water_depth',\n",
    "        'ground_elev',\n",
    "        'x', 'y',\n",
    "        'geometry',\n",
    "        'reg_clusters',\n",
    "        'ini_years_water_depth_mean',\n",
    "        'ini_years_water_depth_std',\n",
    "        'ini_years_water_depth_min',\n",
    "        'ini_years_water_depth_max',\n",
    "        'precip_mean',\n",
    "        'tmean_mean',\n",
    "        'moisture_mean',\n",
    "        'precip_mean_prev_2d_sum',\n",
    "        'precip_mean_prev_7d_sum',\n",
    "        'precip_mean_prev_30d_sum',\n",
    "        'precip_mean_prev_90d_sum',\n",
    "        'precip_mean_prev_1y_sum',\n",
    "        'precip_mean_prev_3y_sum',\n",
    "        'tmean_mean_prev_2d_mean',\n",
    "        'tmean_mean_prev_7d_mean',\n",
    "        'tmean_mean_prev_30d_mean',\n",
    "        'tmean_mean_prev_90d_mean',\n",
    "        'tmean_mean_prev_1y_mean',\n",
    "        'tmean_mean_prev_3y_mean'\n",
    "       ]\n",
    "\n",
    "reserve_cols_as_info = ['station_id', 'date', 'geometry']"
   ]
  },
  {
   "cell_type": "code",
   "execution_count": null,
   "id": "6d52ab56-2e0f-43fe-af3c-68e92c08613a",
   "metadata": {},
   "outputs": [],
   "source": [
    "predictions = {}\n",
    "\n",
    "for scenario_name in scenarios:\n",
    "    df = gs_agg.merge(w, how='cross')\n",
    "    df = df[restrict_to_cols]\n",
    "    df = df.dropna()\n",
    "\n",
    "    info = df[reserve_cols_as_info].copy()\n",
    "\n",
    "    X = df.copy().drop(reserve_cols_as_info, axis=1)\n",
    "\n",
    "    y_pred = pd.DataFrame(model.predict(X), columns=['pred_water_depth'])\n",
    "    y_pred.index = info.index\n",
    "\n",
    "    pred = pd.concat([info, X, y_pred], axis='columns')\n",
    "\n",
    "    predictions[scenario_name] = pred\n",
    "\n",
    "    if True:\n",
    "        pred.to_feather(f'./data/predictions/{scenario_name}.feather')"
   ]
  },
  {
   "cell_type": "markdown",
   "id": "038951ad-2412-4201-82cc-ed3ee89df8fa",
   "metadata": {},
   "source": [
    "### Analyse prediction"
   ]
  },
  {
   "cell_type": "code",
   "execution_count": null,
   "id": "af010adf-687d-4043-8ba0-22010582da63",
   "metadata": {},
   "outputs": [],
   "source": [
    "pred = predictions['avg_t+4_p+10']\n",
    "\n",
    "data = pred.loc[pred.station_id == pred.station_id.unique()[12]]\n",
    "\n",
    "plot_predicted_data(data,\n",
    "                  #pd.to_datetime('2035-01-01'), pd.to_datetime('2045-01-10'),\n",
    "                  #pd.to_datetime('2040-01-01'), pd.to_datetime('2044-01-10')\n",
    "                  #save=True\n",
    "                 )\n",
    "\n",
    "#plt.savefig('./figs/test.png', bbox_inches='tight')"
   ]
  },
  {
   "cell_type": "markdown",
   "id": "f33993c9-33e9-4594-b990-4579c1d19a44",
   "metadata": {},
   "source": [
    "## Predict past groundwater for all stations"
   ]
  },
  {
   "cell_type": "code",
   "execution_count": null,
   "id": "a6f52d43-7b6a-4aa4-a3bd-377e452354c7",
   "metadata": {},
   "outputs": [],
   "source": [
    "w = load_weather_data('./data/weather_collections/weather_daily_region.csv')\n",
    "w = calc_cumulative_weather(w)"
   ]
  },
  {
   "cell_type": "code",
   "execution_count": null,
   "id": "d174007f-f2fb-44ae-93bc-5e7834790015",
   "metadata": {},
   "outputs": [],
   "source": [
    "g_merged = merge_groundwater_data(g, gs_agg)\n",
    "#g_merged.describe()"
   ]
  },
  {
   "cell_type": "code",
   "execution_count": null,
   "id": "a1b518f0-9f00-4cdc-8704-cbf9dfaf5d8f",
   "metadata": {},
   "outputs": [],
   "source": [
    "#g_merged.head()"
   ]
  },
  {
   "cell_type": "code",
   "execution_count": null,
   "id": "8b5a9e5a-a61a-4667-96ef-110e1628aaaa",
   "metadata": {},
   "outputs": [],
   "source": [
    "m = pd.merge(g_merged, w,\n",
    "             how='left', left_index=True, right_index=True)\n",
    "\n",
    "# restrict data to the reference period\n",
    "m = m.loc[m.date > pd.to_datetime('1971-01-01')]\n",
    "\n",
    "# drop all rows with a date after the weather data cutoff date\n",
    "m = m.loc[m.date <= pd.to_datetime('2002-12-31')]\n",
    "\n",
    "m = m.dropna(subset=['station_id_count'])\n",
    "\n",
    "m['week_of_year'] = m['date'].dt.isocalendar().week"
   ]
  },
  {
   "cell_type": "code",
   "execution_count": null,
   "id": "64b9fce7-1fc8-487b-a95c-eed712d83697",
   "metadata": {},
   "outputs": [],
   "source": [
    "# restrict data to these columns\n",
    "df = m[restrict_to_cols]\n",
    "#df.info()"
   ]
  },
  {
   "cell_type": "code",
   "execution_count": null,
   "id": "79fe0a5f-aafe-4c3f-8cb1-e3948455ceed",
   "metadata": {},
   "outputs": [],
   "source": [
    "#df[df.isna().any(axis=1)]"
   ]
  },
  {
   "cell_type": "code",
   "execution_count": null,
   "id": "a97e16d1-f4e1-4ea1-ac02-8a82f0818bc5",
   "metadata": {},
   "outputs": [],
   "source": [
    "df = df.dropna()"
   ]
  },
  {
   "cell_type": "code",
   "execution_count": null,
   "id": "4a3d05da-9b16-4a44-91a0-6d1026525397",
   "metadata": {},
   "outputs": [],
   "source": [
    "info = df[reserve_cols_as_info].copy()\n",
    "X = df.copy().drop(reserve_cols_as_info, axis=1)"
   ]
  },
  {
   "cell_type": "code",
   "execution_count": null,
   "id": "c554d676-f754-4c6a-ad2e-2a361afc6b0b",
   "metadata": {},
   "outputs": [],
   "source": [
    "y_pred = pd.DataFrame(model.predict(X), columns=['pred_water_depth'])\n",
    "y_pred.index = info.index"
   ]
  },
  {
   "cell_type": "code",
   "execution_count": null,
   "id": "490f4fa1-e6e2-4af4-9f17-90719783d036",
   "metadata": {},
   "outputs": [],
   "source": [
    "pred_past = pd.concat([info, X, y_pred], axis='columns')\n",
    "pred_past.head()"
   ]
  },
  {
   "cell_type": "code",
   "execution_count": null,
   "id": "adab5ca9-d723-4f09-8ec0-e1ce48cc0f15",
   "metadata": {},
   "outputs": [],
   "source": [
    "if True:\n",
    "    # for saving in feather format, geometry column must be removed\n",
    "    pred_past.drop('geometry', axis=1).to_feather('./data/predictions/past_data.feather')"
   ]
  },
  {
   "cell_type": "code",
   "execution_count": null,
   "id": "e1b112df-57ce-44a2-8e78-47c4fc84436b",
   "metadata": {},
   "outputs": [],
   "source": []
  }
 ],
 "metadata": {
  "kernelspec": {
   "display_name": "Python (geo)",
   "language": "python",
   "name": "geo"
  },
  "language_info": {
   "codemirror_mode": {
    "name": "ipython",
    "version": 3
   },
   "file_extension": ".py",
   "mimetype": "text/x-python",
   "name": "python",
   "nbconvert_exporter": "python",
   "pygments_lexer": "ipython3",
   "version": "3.9.18"
  }
 },
 "nbformat": 4,
 "nbformat_minor": 5
}
